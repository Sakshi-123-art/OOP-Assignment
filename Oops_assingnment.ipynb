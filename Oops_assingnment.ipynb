{
  "nbformat": 4,
  "nbformat_minor": 0,
  "metadata": {
    "colab": {
      "provenance": []
    },
    "kernelspec": {
      "name": "python3",
      "display_name": "Python 3"
    },
    "language_info": {
      "name": "python"
    }
  },
  "cells": [
    {
      "cell_type": "markdown",
      "source": [
        "#<<< Python OOPs theoritical Questions >>>"
      ],
      "metadata": {
        "id": "a088MpzQSaSM"
      }
    },
    {
      "cell_type": "markdown",
      "source": [
        "# Q1. What is Object-Oriented Programming (OOP) ?\n",
        "## Object-Oriented Programming (OOP) :-\n",
        "Object-Oriented Programming (OOP) in Python is a programming paradigm that organizes code into reusable and modular structures called objects. These objects are instances of classes, which act as blueprints defining the properties (attributes) and behaviors (methods) of the objects.\n",
        "\n",
        "Key Concepts of OOP in Python:\n",
        "\n",
        "### 1.Class: A blueprint for creating objects. It defines attributes and method\n",
        "\n",
        "\n",
        "```\n",
        "class Car:\n",
        "    def __init__(self, brand, model):\n",
        "        self.brand = brand\n",
        "        self.model = model\n",
        "\n",
        "```\n",
        "\n",
        "\n",
        "\n",
        "\n",
        "### 2.Object: An instance of a class. It represents a specific entity created using the class.\n",
        "\n",
        "```\n",
        "my_car = Car(\"Toyota\", \"Corolla\")\n",
        "\n",
        "```\n",
        "\n",
        "### 3.Encapsulation: Bundling data (attributes) and methods (functions) together, restricting direct access to some components.\n",
        "\n",
        "```\n",
        "class BankAccount:\n",
        "    def __init__(self, balance):\n",
        "        self.__balance = balance  # Private attribute\n",
        "\n",
        "    def get_balance(self):\n",
        "        return self.__balance\n",
        "\n",
        "```\n",
        "### 4.inheritance: A mechanism to create a new class (child) that inherits attributes and methods from an existing class (parent)\n",
        "\n",
        "```\n",
        "class Vehicle:\n",
        "    def __init__(self, brand):\n",
        "        self.brand = brand\n",
        "\n",
        "class Car(Vehicle):\n",
        "    def __init__(self, brand, model):\n",
        "        super().__init__(brand)\n",
        "        self.model = model\n",
        "\n",
        "```\n",
        "### 5.Polymorphism: The ability to use a single interface for different data types or classes.\n",
        "\n",
        "```\n",
        "class Dog:\n",
        "    def speak(self):\n",
        "        return \"Woof!\"\n",
        "\n",
        "class Cat:\n",
        "    def speak(self):\n",
        "        return \"Meow!\"\n",
        "\n",
        "def animal_sound(animal):\n",
        "    print(animal.speak())\n",
        "\n",
        "animal_sound(Dog())  # Output: Woof!\n",
        "animal_sound(Cat())  # Output: Meow!\n",
        "\n",
        "```\n",
        "### 6.Abstraction: Hiding implementation details and exposing only the essential features.\n",
        "\n",
        "```\n",
        "from abc import ABC, abstractmethod\n",
        "\n",
        "class Shape(ABC):\n",
        "    @abstractmethod\n",
        "    def area(self):\n",
        "        pass\n",
        "\n",
        "class Circle(Shape):\n",
        "    def __init__(self, radius):\n",
        "        self.radius = radius\n",
        "\n",
        "    def area(self):\n",
        "        return 3.14 * self.radius ** 2\n",
        "\n",
        "```\n",
        "###Why Use OOP in Python?\n",
        "* Modularity: Code is easier to manage and reuse.\n",
        "* Scalability: Simplifies the addition of new features.\n",
        "* Readability: Makes code more intuitive and organized.\n",
        "* Real-world Modeling: Represents real-world entities effectively.\n",
        "\n",
        "Python's simplicity and flexibility make it an excellent language for implementing OOP principles."
      ],
      "metadata": {
        "id": "1wJ09yOVSyvk"
      }
    },
    {
      "cell_type": "markdown",
      "source": [
        "# Q2. What is a class in OOP ?\n",
        "# Class in oop :-\n",
        "In Object-Oriented Programming (OOP), a class in Python is a blueprint or template for creating objects. It defines the structure and behavior (attributes and methods) that the objects created from the class will have. Classes allow you to encapsulate data and functionality together, promoting code reusability and modularity.\n",
        "\n",
        "Here’s a concise explanation:\n",
        "\n",
        "###Key Points:\n",
        "\n",
        "####1.Attributes: Variables that hold data specific to the object.\n",
        "####2.Methods: Functions defined within a class that describe the behaviors of the object.\n",
        "####3.Objects: Instances of a class, created using the class blueprint.\n",
        "\n",
        "Example in Python:\n",
        "\n",
        "```\n",
        "# Constructor to initialize attributes\n",
        "    def __init__(self, brand, model):\n",
        "        self.brand = brand  # Attribute\n",
        "        self.model = model  # Attribute\n",
        "\n",
        "    # Method to display car details\n",
        "    def display_info(self):\n",
        "        print(f\"This car is a {self.brand} {self.model}.\")\n",
        "```\n",
        "# Creating an object (instance) of the class\n",
        "\n",
        "```\n",
        "my_car = Car(\"Toyota\", \"Corolla\")\n",
        "my_car.display_info()  # Output: This car is a Toyota Corolla.\n",
        "\n",
        "```\n",
        "# Why Use Classes in Python?\n",
        "* Encapsulation: Groups related data and methods together.\n",
        "* Reusability: Code can be reused by creating multiple objects from the same class.\n",
        "* Inheritance: Allows one class to inherit properties and methods from another.\n",
        "* Polymorphism: Enables using a single interface for different data types.\n",
        "\n",
        "This makes classes a powerful tool for building scalable and maintainable applications!"
      ],
      "metadata": {
        "id": "gdFo4n1HqDec"
      }
    },
    {
      "cell_type": "markdown",
      "source": [
        "#Q3. What is an object in OOP ?\n",
        "##Objects in oop :-  \n",
        "In Object-Oriented Programming (OOP) in Python, an object is a fundamental building block that represents a real-world entity or concept. It is an instance of a class, which serves as a blueprint for creating objects. Objects encapsulate data (attributes) and behavior (methods) that define their characteristics and actions.\n",
        "\n",
        "Key Features of an Object in Python:\n",
        "\n",
        "### 1.Attributes:\n",
        "These are variables that store the state or properties of the object. For example, a Car object might have attributes like color, brand, and speed.\n",
        "\n",
        "### 2.Methods:\n",
        "These are functions defined within a class that describe the behavior of the object. For example, a Car object might have methods like start(), stop(), or accelerate().\n",
        "\n",
        "### 3.Encapsulation:\n",
        " Objects bundle data and methods together, ensuring that the internal workings of the object are hidden from the outside world, promoting modularity and security.\n",
        "\n",
        "Example:\n",
        "\n",
        "```\n",
        "class Car:\n",
        "    def __init__(self, brand, color):\n",
        "        self.brand = brand  # Attribute\n",
        "        self.color = color  # Attribute\n",
        "\n",
        "    def start(self):  # Method\n",
        "        print(f\"The {self.color} {self.brand} car has started.\")\n",
        "\n",
        "# Creating an object (instance of the class)\n",
        "my_car = Car(\"Toyota\", \"Red\")\n",
        "\n",
        "# Accessing attributes and methods\n",
        "print(my_car.brand)  # Output: Toyota\n",
        "print(my_car.color)  # Output: Red\n",
        "my_car.start()       # Output: The Red Toyota car has started.\n",
        "\n",
        "```\n",
        "In this example:\n",
        "\n",
        "* Car is the class (blueprint).\n",
        "* my_car is an object (instance of the Car class).\n",
        "* brand and color are attributes.\n",
        "start() is a method.\n",
        "\n",
        "Objects allow Python to model real-world entities in a structured and reusable way, making it a powerful paradigm for software development."
      ],
      "metadata": {
        "id": "UA-eBAVVsDAt"
      }
    },
    {
      "cell_type": "markdown",
      "source": [
        "# Q4. What is the difference between abstraction and encapsulation .\n",
        "### the difference between abstraction and encapsulation :\n",
        "Abstraction and encapsulation are two fundamental concepts in object-oriented programming, including Python. While they are related, they serve different purposes. Here's a concise explanation:\n",
        "\n",
        "## 1. Abstraction\n",
        "* Definition: Abstraction focuses on hiding the complexity of a system and showing only the essential features or functionalities to the user.\n",
        "Purpose: It simplifies the design by exposing only what is necessary, making the system easier to use and understand.\n",
        "Implementation in Python: Achieved using abstract classes and interfaces (via the abc module).\n",
        "Example: A Vehicle class might define an abstract method start_engine() without specifying how it works. Subclasses like Car or Bike implement the method differently.\n",
        "from abc import ABC, abstractmethod\n",
        "\n",
        "```\n",
        "from abc import ABC, abstractmethod\n",
        "\n",
        "class Vehicle(ABC):\n",
        "    @abstractmethod\n",
        "    def start_engine(self):\n",
        "        pass\n",
        "\n",
        "class Car(Vehicle):\n",
        "    def start_engine(self):\n",
        "        print(\"Car engine started!\")\n",
        "\n",
        "class Bike(Vehicle):\n",
        "    def start_engine(self):\n",
        "        print(\"Bike engine started!\")\n",
        "\n",
        "# Usage\n",
        "vehicle = Car()\n",
        "vehicle.start_engine()\n",
        "\n",
        "```\n",
        "##2. Encapsulation\n",
        "* Definition: Encapsulation is about restricting direct access to certain parts of an object and bundling data (attributes) and methods (functions) together.\n",
        "Purpose: It ensures data security and prevents unintended interference by controlling access through getters, setters, or private/protected attributes.\n",
        "Implementation in Python: Achieved using private (__) or protected (_) attributes and methods.\n",
        "\n",
        "* Example: A BankAccount class might encapsulate the balance and provide controlled access through methods.\n",
        "\n",
        "```\n",
        "class BankAccount:\n",
        "    def __init__(self, balance):\n",
        "        self.__balance = balance  # Private attribute\n",
        "\n",
        "    def deposit(self, amount):\n",
        "        if amount > 0:\n",
        "            self.__balance += amount\n",
        "\n",
        "    def get_balance(self):\n",
        "        return self.__balance\n",
        "\n",
        "# Usage\n",
        "account = BankAccount(1000)\n",
        "account.deposit(500)\n",
        "print(account.get_balance())  # Output: 1500\n",
        "\n",
        "```\n",
        "To sum up the difference:\n",
        "\n",
        "* Encapsulation emphasizes data hiding and controlled access to attributes and methods within a class. Basically, it's about packaging related data and behavior together and limiting external access to it.\n",
        "* Abstraction emphasizes the creation of clear and simplified interfaces that hide implementation details. In other words, it's defining a common structure that focuses on what an object does instead of how it does it.\n",
        "* Encapsulation and abstraction contribute to well-structured, maintainable, and understandable code in object-oriented programming.\n",
        "\n",
        "### Key Differences\n",
        "Aspect\tAbstraction\tEncapsulation\n",
        "Focus     \tHiding implementation details from the user.\tRestricting access to internal object data.\n",
        "Purpose\t    Simplifies usage by exposing only essentials.\tProtects data and ensures controlled access.\n",
        "Implementation  \tAbstract classes, interfaces.\tPrivate/protected attributes, methods.\n",
        "Example\t      Defining start_engine() in Vehicle.\tHiding __balance in BankAccount.\n",
        "\n",
        "Both concepts work together to create robust, secure, and user-friendly programs."
      ],
      "metadata": {
        "id": "jYMYyhL_wQm8"
      }
    },
    {
      "cell_type": "markdown",
      "source": [
        "# Q5. What are dunder methods in Python .\n",
        "## Dunder methods :\n",
        "Dunder methods, short for \"double underscore methods,\" are special methods in Python that have double underscores at the beginning and end of their names (e.g., __init__, __str__). They are also known as \"magic methods\" or \"special methods.\" These methods allow you to define how objects of a class behave in specific situations, such as initialization, string representation, arithmetic operations, and more.\n",
        "\n",
        "Here’s an explanation with examples:\n",
        "\n",
        "### 1. __init__: Constructor Method\n",
        "\n",
        "This method is called when an object is created. It initializes the object's attributes.\n",
        "\n",
        "```\n",
        "class Person:\n",
        "    def __init__(self, name, age):\n",
        "        self.name = name\n",
        "        self.age = age\n",
        "\n",
        "person = Person(\"Alice\", 25)\n",
        "print(person.name)  # Output: Alice\n",
        "print(person.age)   # Output: 25\n",
        "\n",
        "```\n",
        "\n",
        "\n",
        "### 2. __str__: String Representation :\n",
        "\n",
        "This method defines how an object is represented as a string (e.g., when using print()).\n",
        "\n",
        "```\n",
        "class Person:\n",
        "    def __init__(self, name, age):\n",
        "        self.name = name\n",
        "        self.age = age\n",
        "\n",
        "    def __str__(self):\n",
        "        return f\"{self.name}, {self.age} years old\"\n",
        "\n",
        "person = Person(\"Alice\", 25)\n",
        "print(person)  # Output: Alice, 25 years old\n",
        "```\n",
        "### 3. __add__: Overloading the + Operator :\n",
        "This method allows you to define custom behavior for the + operator.\n",
        "\n",
        "```\n",
        "class Point:\n",
        "    def __init__(self, x, y):\n",
        "        self.x = x\n",
        "        self.y = y\n",
        "\n",
        "    def __add__(self, other):\n",
        "        return Point(self.x + other.x, self.y + other.y)\n",
        "\n",
        "    def __str__(self):\n",
        "        return f\"({self.x}, {self.y})\"\n",
        "\n",
        "p1 = Point(1, 2)\n",
        "p2 = Point(3, 4)\n",
        "p3 = p1 + p2\n",
        "print(p3)  # Output: (4, 6)\n",
        "```\n",
        "Commonly Used Dunder Methods:0\n",
        "\n",
        "* __repr__: Provides an official string representation of the object.\n",
        "* __len__: Defines behavior for the len() function.\n",
        "* __getitem__: Allows indexing (e.g., obj[key]).\n",
        "* __eq__: Defines equality comparison (==).\n",
        "* __lt__: Defines less-than comparison (<).\n",
        "\n",
        "Dunder methods make Python classes more intuitive and integrate seamlessly with Python's built-in operations."
      ],
      "metadata": {
        "id": "ii-Cw4cL3UDA"
      }
    },
    {
      "cell_type": "markdown",
      "source": [
        "# Q6.  Explain the concept of inheritance in OOP .\n",
        "## inheritance in OOP :\n",
        "Inheritance is a fundamental concept in object-oriented programming that allows a new class to be based on an existing class. The new class, known as the derived class or subclass, inherits properties and methods from the existing class, called the base class or superclass. This mechanism enables code reuse and establishes a relationship between classes that mirrors real-world hierarchies.\n",
        "\n",
        "To understand inheritance better, let’s break it down with an analogy:\n",
        "\n",
        "* Example :  Imagine a family tree. Just as children inherit traits from their parents, in OOP, a subclass inherits characteristics (properties and methods) from its parent class. This inheritance can span multiple generations, creating a hierarchy of classes.\n",
        "\n",
        "## The Importance of Inheritance in OOP\n",
        "Inheritance is not just a feature of OOP; it’s a cornerstone that supports several key objectives:\n",
        "\n",
        "*  Code Reusability: Inheritance allows developers to reuse code from existing classes, reducing redundancy and promoting efficiency.\n",
        "* Hierarchical Classification: It helps in organizing classes into a hierarchical structure, reflecting real-world relationships between objects.\n",
        "* Extensibility: New functionality can be added to existing code without modifying it, adhering to the open-closed principle of SOLID.\n",
        "* Polymorphism: Inheritance is the foundation for polymorphism, allowing objects of different classes to be treated as objects of a common base class.\n",
        "\n",
        "## Types of Inheritance\n",
        "Inheritance comes in various forms, each serving different purposes in software design:\n",
        "\n",
        "### 1. Single Inheritance\n",
        "In single inheritance, a subclass inherits from only one superclass. This is the simplest and most common form of inheritance.\n",
        "\n",
        "###2. Multiple Inheritance\n",
        "Multiple inheritance allows a subclass to inherit from more than one superclass. While powerful, it can lead to complexities like the “diamond problem” and is not supported in all programming languages.\n",
        "\n",
        "###3. Multilevel Inheritance\n",
        "This type involves a chain of inheritance where a subclass becomes the superclass for another class, creating a hierarchy of classes.\n",
        "\n",
        "###4. Hierarchical Inheritance\n",
        "In hierarchical inheritance, multiple subclasses inherit from a single superclass, creating a tree-like structure.\n",
        "\n",
        "###5. Hybrid Inheritance\n",
        "Hybrid inheritance is a combination of two or more types of inheritance, often seen in complex system designs.\n",
        "\n",
        "## Implementing Inheritance :\n",
        "Python uses parentheses to denote inheritance, and supports multiple inheritance.\n",
        "\n",
        "```\n",
        "class Animal:\n",
        "    # Base class\n",
        "    pass\n",
        "\n",
        "class Dog(Animal):\n",
        "    # Subclass inheriting from Animal\n",
        "    pass\n",
        "```\n",
        "## Benefits of Using Inheritance\n",
        "Inheritance offers numerous advantages that contribute to better software design and development:\n",
        "\n",
        "* Code Reusability: Inheritance allows developers to reuse code from existing classes, reducing redundancy and promoting efficiency. This not only saves time but also reduces the chances of errors that might occur when rewriting similar code.\n",
        "* Modularity: By organizing code into a hierarchy of classes, inheritance promotes a modular approach to software design. This makes the code easier to understand, maintain, and modify.\n",
        "* Extensibility: New functionality can be added to existing code without modifying it, adhering to the open-closed principle of SOLID. This makes it easier to extend the capabilities of a system without risking the stability of existing code.\n",
        "* Polymorphism: Inheritance is the foundation for polymorphism, allowing objects of different classes to be treated as objects of a common base class. This enables more flexible and dynamic code.\n",
        "* Improved Organization: Inheritance helps in creating a logical structure for your code, mirroring real-world relationships between objects. This can make the overall design of a system more intuitive and easier to understand.\n",
        "* Code Maintainability: With proper use of inheritance, changes made to a base class automatically propagate to all its subclasses, reducing the effort required for maintenance and updates.\n"
      ],
      "metadata": {
        "id": "QM3GP7vd88aq"
      }
    },
    {
      "cell_type": "markdown",
      "source": [
        "# Q7.What is polymorphism in OOP ?\n",
        "## polymorphism in OOP:\n",
        "Polymorphism in Object-Oriented Programming (OOP) refers to the ability of different objects to respond to the same method or function call in their own unique way. In Python, polymorphism allows methods in different classes to share the same name but behave differently based on the object calling them. This promotes flexibility and reusability in code.\n",
        "\n",
        "Here’s a concise explanation with examples:\n",
        "\n",
        "## 1. Polymorphism with Methods\n",
        "\n",
        "Different classes can define methods with the same name, and the behavior depends on the object.\n",
        "\n",
        "```\n",
        "class Dog:\n",
        "    def sound(self):\n",
        "        return \"Bark\"\n",
        "\n",
        "class Cat:\n",
        "    def sound(self):\n",
        "        return \"Meow\"\n",
        "\n",
        "# Polymorphism in action\n",
        "animals = [Dog(), Cat()]\n",
        "for animal in animals:\n",
        "    print(animal.sound())\n",
        "\n",
        "\n",
        "Output:\n",
        "\n",
        "Bark\n",
        "Meow\n",
        "```\n",
        "## 2. Polymorphism with Functions\n",
        "\n",
        "A single function can work with objects of different types.\n",
        "\n",
        "```\n",
        "def make_sound(animal):\n",
        "    print(animal.sound())\n",
        "\n",
        "make_sound(Dog())  # Output: Bark\n",
        "make_sound(Cat())  # Output: Meow\n",
        "\n",
        "```\n",
        "## 3. Polymorphism with Inheritance\n",
        "\n",
        "When a child class overrides a method from its parent class, it exhibits polymorphism.\n",
        "\n",
        "```\n",
        "class Animal:\n",
        "    def sound(self):\n",
        "        return \"Some sound\"\n",
        "\n",
        "class Dog(Animal):\n",
        "    def sound(self):\n",
        "        return \"Bark\"\n",
        "\n",
        "class Cat(Animal):\n",
        "    def sound(self):\n",
        "        return \"Meow\"\n",
        "\n",
        "# Polymorphism through inheritance\n",
        "animals = [Dog(), Cat(), Animal()]\n",
        "for animal in animals:\n",
        "    print(animal.sound())\n",
        "\n",
        "\n",
        "Output:\n",
        "\n",
        "Bark\n",
        "Meow\n",
        "Some sound\n",
        "\n",
        "```\n",
        "Polymorphism simplifies code by allowing you to use a unified interface for different types of objects, making your programs more dynamic and extensible."
      ],
      "metadata": {
        "id": "VBsxVWbpABdI"
      }
    },
    {
      "cell_type": "markdown",
      "source": [
        "# Q8.How is encapsulation achieved in Python ?\n",
        "## Encapsulation in Python :-\n",
        "Encapsulation in Python is achieved through the use of classes, methods, and access modifiers. It is a fundamental principle of object-oriented programming (OOP) that helps in bundling data (attributes) and methods (functions) together while restricting direct access to some of the object's components. Here's how it is implemented:\n",
        "\n",
        "###1. Using Access Modifiers\n",
        "\n",
        "### 1.1 Public Members:\n",
        " These are accessible from anywhere. By default, all attributes and methods in Python are public.\n",
        "\n",
        "```\n",
        "class Example:\n",
        "    def __init__(self):\n",
        "        self.public_var = \"I am public\"\n",
        "\n",
        "obj = Example()\n",
        "print(obj.public_var)  # Accessible\n",
        "\n",
        "```\n",
        "###1.2 Protected Members:\n",
        " These are indicated by a single underscore (_) and are intended to be accessed only within the class and its subclasses (though not strictly enforced).\n",
        "\n",
        "```\n",
        "class Example:\n",
        "    def __init__(self):\n",
        "        self._protected_var = \"I am protected\"\n",
        "\n",
        "obj = Example()\n",
        "print(obj._protected_var)  # Accessible but discouraged\n",
        "\n",
        "```\n",
        "###1.3 Private Members:\n",
        "These are indicated by a double underscore (__) and are name-mangled to restrict access from outside the class.\n",
        "\n",
        "```\n",
        "class Example:\n",
        "    def __init__(self):\n",
        "        self.__private_var = \"I am private\"\n",
        "\n",
        "    def get_private_var(self):\n",
        "        return self.__private_var  # Accessed via a method\n",
        "\n",
        "obj = Example()\n",
        "# print(obj.__private_var)  # Raises AttributeError\n",
        "print(obj.get_private_var())  # Accessed through a method\n",
        "\n",
        "```\n",
        "###2. Getter and Setter Methods:\n",
        "\n",
        "Encapsulation is further reinforced by using getter and setter methods to control access to private attributes. This ensures data integrity and allows validation before modifying attributes.\n",
        "\n",
        "```\n",
        "class Person:\n",
        "    def __init__(self, name):\n",
        "        self.__name = name  # Private attribute\n",
        "\n",
        "    def get_name(self):  # Getter method\n",
        "        return self.__name\n",
        "\n",
        "    def set_name(self, name):  # Setter method\n",
        "        if isinstance(name, str):\n",
        "            self.__name = name\n",
        "        else:\n",
        "            raise ValueError(\"Name must be a string\")\n",
        "\n",
        "person = Person(\"John\")\n",
        "print(person.get_name())  # Accessing private attribute via getter\n",
        "person.set_name(\"Jane\")  # Modifying private attribute via setter\n",
        "print(person.get_name())\n",
        "\n",
        "```\n",
        "### 3. Benefits of Encapsulation\n",
        "* Data Hiding: Prevents direct access to sensitive data.\n",
        "* Controlled Access: Ensures attributes are modified only through defined methods.\n",
        "* Improved Maintainability: Makes the code modular and easier to debug.\n",
        "\n",
        "* Encapsulation in Python is flexible, allowing developers to enforce restrictions while still providing access when necessary."
      ],
      "metadata": {
        "id": "5guMJDbUBZyM"
      }
    },
    {
      "cell_type": "markdown",
      "source": [
        "# Q9. What is a constructor in Python .\n",
        "## constructor in Python :\n",
        "A constructor in Python is a special method used to initialize the attributes of an object when it is created. It is defined using the __init__ method within a class. The constructor is automatically called when an object of the class is instantiated.\n",
        "\n",
        "Here’s an example to help you understand:\n",
        "\n",
        "```\n",
        "class Person:\n",
        "    # Constructor\n",
        "    def __init__(self, name, age):\n",
        "        self.name = name  # Initialize the 'name' attribute\n",
        "        self.age = age    # Initialize the 'age' attribute\n",
        "\n",
        "    # Method to display details\n",
        "    def display_info(self):\n",
        "        print(f\"Name: {self.name}, Age: {self.age}\")\n",
        "\n",
        "# Creating an object of the Person class\n",
        "person1 = Person(\"Alice\", 25)\n",
        "\n",
        "# Accessing the object's attributes and methods\n",
        "person1.display_info()\n",
        "\n",
        "```\n",
        "\n",
        "## Explanation:\n",
        "* The __init__ method is the constructor. It takes self (the instance of the class) as its first parameter, followed by any other parameters you want to pass during object creation.\n",
        "* In the example, name and age are initialized when the Person object is created.\n",
        "* When person1 = Person(\"Alice\", 25) is executed, the constructor is automatically called, setting name to \"Alice\" and age to 25.\n",
        "### Output:\n",
        "\n",
        "```\n",
        "Name: Alice, Age: 25\n",
        "\n",
        "```\n",
        "This makes constructors very useful for setting up objects with specific initial values!\n",
        "\n"
      ],
      "metadata": {
        "id": "UBYlnx6gEOJE"
      }
    },
    {
      "cell_type": "markdown",
      "source": [
        "# Q10.What are class and static methods in Python.\n",
        "## class and static methods in Python :\n",
        "In Python, class methods and static methods are two types of methods that are used to define behaviors related to a class rather than an instance of the class. Here's a concise explanation with examples:\n",
        "\n",
        "### 1. Class Methods :\n",
        "* Definition: A class method is a method that is bound to the class and not the instance of the class. It can access and modify the class state (class variables) but cannot directly access instance variables.\n",
        "* Decorator: @classmethod\n",
        "* First Parameter: The first parameter is conventionally named cls, which refers to the class itself.\n",
        "* Example:\n",
        "\n",
        "```\n",
        "class MyClass:\n",
        "    class_variable = \"I am a class variable\"\n",
        "\n",
        "    @classmethod\n",
        "    def class_method(cls):\n",
        "        return f\"Accessing: {cls.class_variable}\"\n",
        "\n",
        "# Usage\n",
        "print(MyClass.class_method())  # Output: Accessing: I am a class variable\n",
        "\n",
        "```\n",
        "### 2. Static Methods :\n",
        "* Definition: A static method is a method that does not depend on the class or instance. It is used to perform a task in isolation and does not access or modify class or instance variables.\n",
        "* Decorator: @staticmethod\n",
        "* First Parameter: It does not take self or cls as its first parameter.\n",
        "* Example:\n",
        "\n",
        "```\n",
        "class MyClass:\n",
        "    @staticmethod\n",
        "    def static_method(x, y):\n",
        "        return f\"The sum is: {x + y}\"\n",
        "\n",
        "# Usage\n",
        "print(MyClass.static_method(5, 10))  # Output: The sum is: 15\n",
        "\n",
        "```\n",
        "## Key Differences\n",
        "###Class method vs Static Method\n",
        "The difference between the Class method and the static method is:\n",
        "\n",
        "* A class method takes cls as the first parameter while a static method needs no specific parameters.\n",
        "* A class method can access or modify the class state while a static method can’t access or modify it.\n",
        "* In general, static methods know nothing about the class state. They are utility-type methods that take some parameters and work upon those parameters. On the other hand class methods must have class as a parameter.\n",
        "* We use @classmethod decorator in python to create a class method and we use @staticmethod decorator to create a static method in python.\n",
        "\n",
        "## When to use the class or static method?\n",
        "* We generally use the class method to create factory methods. Factory methods return class objects ( similar to a constructor ) for different use cases.\n",
        "* We generally use static methods to create utility functions.\n"
      ],
      "metadata": {
        "id": "GmBNM3GHFjsP"
      }
    },
    {
      "cell_type": "markdown",
      "source": [
        "# Q11.What is method overloading in Python .\n",
        "## method overloading in Python\n",
        "Method overloading in Python refers to the ability to define multiple methods with the same name but different parameters. However, Python does not support traditional method overloading like some other languages (e.g., Java or C++). Instead, Python achieves similar functionality by using default arguments, variable-length arguments (*args and **kwargs), or conditional logic within a single method.\n",
        "\n",
        "Here’s an example to illustrate method overloading in Python:\n",
        "\n",
        "```\n",
        "Example 1: Using Default Arguments\n",
        "class Calculator:\n",
        "    def add(self, a, b=0, c=0):\n",
        "        return a + b + c\n",
        "\n",
        "calc = Calculator()\n",
        "print(calc.add(5))          # Output: 5 (only one argument)\n",
        "print(calc.add(5, 10))      # Output: 15 (two arguments)\n",
        "print(calc.add(5, 10, 15))  # Output: 30 (three arguments)\n",
        "```\n",
        "Example 2: Using Variable-Length Arguments (*args)\n",
        "\n",
        "```\n",
        "class Calculator:\n",
        "    def add(self, *args):\n",
        "        return sum(args)\n",
        "\n",
        "calc = Calculator()\n",
        "print(calc.add(5))          # Output: 5\n",
        "print(calc.add(5, 10))      # Output: 15\n",
        "print(calc.add(5, 10, 15))  # Output: 30\n",
        "\n",
        "```\n",
        "Example 3: Using Conditional Logic\n",
        "\n",
        "```\n",
        "class Calculator:\n",
        "    def add(self, a, b=None, c=None):\n",
        "        if b is None and c is None:\n",
        "            return a\n",
        "        elif c is None:\n",
        "            return a + b\n",
        "        else:\n",
        "            return a + b + c\n",
        "\n",
        "calc = Calculator()\n",
        "print(calc.add(5))          # Output: 5\n",
        "print(calc.add(5, 10))      # Output: 15\n",
        "print(calc.add(5, 10, 15))  # Output: 30\n",
        "\n",
        "```\n",
        "In all these examples, the method add behaves differently based on the number of arguments passed, mimicking method overloading. This approach makes Python flexible and dynamic while adhering to its philosophy of simplicity."
      ],
      "metadata": {
        "id": "_5v8cHsCIYtI"
      }
    },
    {
      "cell_type": "markdown",
      "source": [
        "# Q12.What is method overriding in OOP.\n",
        "## method overriding in OOP :\n",
        "Method overriding in Object-Oriented Programming (OOP) in Python is a feature that allows a subclass to provide a specific implementation of a method that is already defined in its parent class. This is useful when the behavior of the method in the parent class needs to be customized or extended in the subclass.\n",
        "\n",
        "## Key Points:\n",
        "###1.Same Method Name:\n",
        " The method in the subclass must have the same name as the one in the parent class.\n",
        "### 2.Same Parameters:\n",
        " The method signature (parameters) should match the parent class method.\n",
        "###3.Polymorphism:\n",
        " It enables polymorphism, allowing the subclass to define its own behavior while still adhering to the parent class's interface.\n",
        "### Example:\n",
        "\n",
        "```\n",
        "class Parent:\n",
        "    def greet(self):\n",
        "        print(\"Hello from the Parent class!\")\n",
        "\n",
        "class Child(Parent):\n",
        "    def greet(self):\n",
        "        print(\"Hello from the Child class!\")\n",
        "```\n",
        "##  Demonstration :\n",
        "\n",
        "```\n",
        "parent_instance = Parent()\n",
        "child_instance = Child()\n",
        "\n",
        "parent_instance.greet()  # Output: Hello from the Parent class!\n",
        "child_instance.greet()   # Output: Hello from the Child class!\n",
        "\n",
        "\n",
        "```\n",
        "### In this example:\n",
        "\n",
        "The greet method in the Child class overrides the greet method in the Parent class.\n",
        "When the greet method is called on a Child instance, the overridden method in the Child class is executed.\n",
        "Using super():\n",
        "\n",
        "If you want to call the parent class's method within the overridden method, you can use the super() function:\n",
        "\n",
        "```\n",
        "class Parent:\n",
        "    def greet(self):\n",
        "        print(\"Hello from the Parent class!\")\n",
        "\n",
        "class Child(Parent):\n",
        "    def greet(self):\n",
        "        super().greet()  # Call the parent class's method\n",
        "        print(\"Hello from the Child class!\")\n",
        "\n",
        "# Demonstration\n",
        "child_instance = Child()\n",
        "child_instance.greet()\n",
        "# Output:\n",
        "# Hello from the Parent class!\n",
        "# Hello from the Child class!\n",
        "\n",
        "```\n",
        "This approach allows you to extend the functionality of the parent class's method rather than completely replacing it."
      ],
      "metadata": {
        "id": "_uFMbfBRJqg1"
      }
    },
    {
      "cell_type": "markdown",
      "source": [
        "# Q13.What is a property decorator in Python.\n",
        "A property decorator in Python is a built-in feature that allows you to define methods in a class that can be accessed like attributes. It is used to encapsulate instance variables, providing a way to add logic when getting, setting, or deleting an attribute, while maintaining a clean and intuitive interface.\n",
        "* The @property decorator is used to define a getter method, and additional decorators like @<property_name>.setter and @<property_name>.deleter can be used to define corresponding setter and deleter methods.\n",
        "\n",
        "## Key Features of @property:\n",
        "1.**Encapsulation**: It allows you to control access to private attributes.\n",
        "\n",
        "2.**Readability**: You can access methods as if they were attributes, making the code more readable.\n",
        "\n",
        "3.**Flexibility**: You can define custom behavior for getting, setting, or deleting attributes without changing the interface.\n",
        "\n",
        "\n",
        "Example: Using @property Decorator\n",
        "\n",
        "```\n",
        "class Circle:\n",
        "    def __init__(self, radius):\n",
        "        self._radius = radius  # Private variable to store radius\n",
        "\n",
        "    @property\n",
        "    def radius(self):\n",
        "        \"\"\"Getter for radius\"\"\"\n",
        "        return self._radius\n",
        "\n",
        "    @radius.setter\n",
        "    def radius(self, value):\n",
        "        \"\"\"Setter for radius with validation\"\"\"\n",
        "        if value < 0:\n",
        "            raise ValueError(\"Radius cannot be negative\")\n",
        "        self._radius = value\n",
        "\n",
        "    @property\n",
        "    def area(self):\n",
        "        \"\"\"Read-only property to calculate area\"\"\"\n",
        "        return 3.14159 * (self._radius ** 2)\n",
        "\n",
        "# Example usage\n",
        "circle = Circle(5)\n",
        "print(circle.radius)  # Access radius (getter)\n",
        "print(circle.area)    # Access area (read-only property)\n",
        "\n",
        "circle.radius = 10    # Update radius (setter)\n",
        "print(circle.area)    # Updated area\n",
        "\n",
        "# circle.radius = -3  # Uncommenting this will raise ValueError\n",
        "\n",
        "```\n",
        "## Explanation:\n",
        "### 1.Getter (@property):\n",
        " Allows circle.radius to be accessed like an attribute, but it actually calls the radius method.\n",
        "###2.Setter (@radius.setter):\n",
        "Adds validation logic when setting circle.radius.\n",
        "###3.Read-only Property:\n",
        " area is defined with @property but no setter, so it cannot be modified directly.\n",
        "\n",
        "This approach ensures encapsulation, validation, and a clean interface for interacting with class attributes."
      ],
      "metadata": {
        "id": "_euGr-QvMoYM"
      }
    },
    {
      "cell_type": "markdown",
      "source": [
        "# Q14. Why is polymorphism important in OOP ?\n",
        "## Polymorphism\n",
        "Polymorphism is a cornerstone of Object-Oriented Programming (OOP) in Python, and its importance lies in its ability to enhance flexibility, maintainability, and scalability of code. Here's why it matters:\n",
        "\n",
        "### 1. Code Reusability\n",
        "Polymorphism allows you to write generic code that works with objects of different classes. This reduces redundancy and promotes reusability.\n",
        "For example, a single function can operate on objects of different types as long as they share a common interface or behavior.\n",
        "\n",
        "```\n",
        "class Dog:\n",
        "    def speak(self):\n",
        "        return \"Woof!\"\n",
        "\n",
        "class Cat:\n",
        "    def speak(self):\n",
        "        return \"Meow!\"\n",
        "\n",
        "def animal_sound(animal):\n",
        "    print(animal.speak())\n",
        "\n",
        "animal_sound(Dog())  # Output: Woof!\n",
        "animal_sound(Cat())  # Output: Meow!\n",
        "```\n",
        "###2. Flexibility and Extensibility\n",
        "Polymorphism makes it easier to extend functionality without modifying existing code. You can add new classes that conform to the same interface without altering the code that uses them.\n",
        "This is particularly useful in large-scale applications where new features or types are frequently added.\n",
        "###3. Simplifies Code Maintenance\n",
        "By allowing objects to be treated uniformly, polymorphism reduces the complexity of the code. This makes it easier to debug, test, and maintain.\n",
        "For instance, you can iterate over a collection of objects and call the same method on each, regardless of their specific class.\n",
        "\n",
        "```\n",
        "animals = [Dog(), Cat()]\n",
        "for animal in animals:\n",
        "    print(animal.speak())\n",
        "# Output:\n",
        "# Woof!\n",
        "# Meow!\n",
        "```\n",
        "###4. Supports Design Principles\n",
        "Polymorphism aligns with key design principles like Open/Closed Principle (open for extension, closed for modification) and Dependency Inversion Principle (depend on abstractions, not concrete implementations).\n",
        "This leads to cleaner, modular, and more robust code.\n",
        "\n",
        "* In summary, polymorphism in Python empowers developers to write adaptable and efficient code by enabling objects of different types to be used interchangeably, as long as they share common behavior. This is a hallmark of good OOP design!"
      ],
      "metadata": {
        "id": "OpwMbx6dOmv3"
      }
    },
    {
      "cell_type": "markdown",
      "source": [
        "# Q15.bold text What is an abstract class in Python.\n",
        "## Abstract class :\n",
        "An abstract class in Python is a class that serves as a blueprint for other classes. It cannot be instantiated directly and is used to define methods that must be implemented in derived (child) classes. Abstract classes are part of the abc (Abstract Base Classes) module in Python.\n",
        "\n",
        "Here’s a concise explanation:\n",
        "\n",
        "##Key Features of Abstract Classes:\n",
        "\n",
        "* Cannot Be Instantiated: You cannot create an object of an abstract class.\n",
        "* Abstract Methods: These are methods declared in the abstract class but have no implementation. Subclasses must override these methods.\n",
        "* Optional Concrete Methods: Abstract classes can also have methods with implementations that can be inherited by subclasses.\n",
        "* Purpose: They enforce a contract for subclasses, ensuring they implement specific methods.\n",
        "##How to Create an Abstract Class:\n",
        "\n",
        "You use the ABC (Abstract Base Class) from the abc module and decorate abstract methods with @abstractmethod.\n",
        "\n",
        "Example:\n",
        "\n",
        "```\n",
        "from abc import ABC, abstractmethod\n",
        "\n",
        "# Abstract class\n",
        "class Animal(ABC):\n",
        "    @abstractmethod\n",
        "    def sound(self):\n",
        "        pass  # Abstract method, must be implemented in subclasses\n",
        "\n",
        "    def sleep(self):\n",
        "        print(\"This animal is sleeping.\")  # Concrete method, optional to override\n",
        "\n",
        "# Subclass\n",
        "class Dog(Animal):\n",
        "    def sound(self):\n",
        "        print(\"Woof! Woof!\")  # Implementation of the abstract method\n",
        "\n",
        "# Usage\n",
        "dog = Dog()\n",
        "dog.sound()  # Output: Woof! Woof!\n",
        "dog.sleep()  # Output: This animal is sleeping.\n",
        "\n",
        "# Attempting to instantiate the abstract class will raise an error:\n",
        "# animal = Animal()  # TypeError: Can't instantiate abstract class Animal\n",
        "\n",
        "```\n",
        "## Why Use Abstract Classes?\n",
        "* To define a common interface for a group of related classes.\n",
        "* To enforce implementation of specific methods in subclasses.\n",
        "* To promote code reusability and maintainability.\n",
        "\n",
        "Abstract classes are particularly useful in larger projects where consistent behavior across multiple subclasses is essential."
      ],
      "metadata": {
        "id": "no5iV63JP8AP"
      }
    },
    {
      "cell_type": "markdown",
      "source": [
        "# Q16. What are the advantages of OOP ?\n",
        "##Advantages of OOP :\n",
        "Object-Oriented Programming (OOP) in Python offers several advantages that make it a powerful paradigm for designing and implementing software. Here are the key benefits, along with examples:\n",
        "\n",
        "##1. Modularity and Code Reusability\n",
        "* Advantage: OOP allows you to create reusable code by defining classes and objects. Once a class is created, it can be reused across multiple programs or projects.\n",
        "* Example:\n",
        "\n",
        "```\n",
        "class Animal:\n",
        "    def __init__(self, name):\n",
        "        self.name = name\n",
        "\n",
        "    def speak(self):\n",
        "        return f\"{self.name} makes a sound.\"\n",
        "\n",
        "# Reusing the Animal class\n",
        "dog = Animal(\"Dog\")\n",
        "print(dog.speak())  # Output: Dog makes a sound.\n",
        "\n",
        "```\n",
        "##2. Encapsulation Advantage:\n",
        "* Encapsulation bundles data (attributes) and methods (functions) into a single unit (class) and restricts direct access to some components, enhancing security and reducing complexity.\n",
        "* Example:\n",
        "\n",
        "```\n",
        "class BankAccount:\n",
        "    def __init__(self, balance):\n",
        "        self.__balance = balance  # Private attribute\n",
        "\n",
        "    def deposit(self, amount):\n",
        "        self.__balance += amount\n",
        "\n",
        "    def get_balance(self):\n",
        "        return self.__balance\n",
        "\n",
        "account = BankAccount(1000)\n",
        "account.deposit(500)\n",
        "print(account.get_balance())  # Output: 1500\n",
        "\n",
        "```\n",
        "##3. Inheritance Advantage:\n",
        "* Inheritance allows a class (child) to inherit attributes and methods from another class (parent), promoting code reuse and reducing redundancy.\n",
        "* Example:\n",
        "\n",
        "\n",
        "```\n",
        "class Vehicle:\n",
        "    def __init__(self, brand):\n",
        "        self.brand = brand\n",
        "\n",
        "    def start(self):\n",
        "        return f\"{self.brand} is starting.\"\n",
        "\n",
        "class Car(Vehicle):  # Inheriting from Vehicle\n",
        "    def drive(self):\n",
        "        return f\"{self.brand} is driving.\"\n",
        "\n",
        "my_car = Car(\"Toyota\")\n",
        "print(my_car.start())  # Output: Toyota is starting.\n",
        "print(my_car.drive())  # Output: Toyota is driving.\n",
        "\n",
        "```\n",
        "##4. Polymorphism\n",
        "* Advantage: Polymorphism allows methods in different classes to have the same name but behave differently, making the code more flexible and extensible.\n",
        "* Example:\n",
        "\n",
        "\n",
        "```\n",
        "class Bird:\n",
        "    def sound(self):\n",
        "        return \"Chirp\"\n",
        "\n",
        "class Dog:\n",
        "    def sound(self):\n",
        "        return \"Bark\"\n",
        "\n",
        "# Polymorphism in action\n",
        "def make_sound(animal):\n",
        "    print(animal.sound())\n",
        "\n",
        "make_sound(Bird())  # Output: Chirp\n",
        "make_sound(Dog())   # Output: Bark\n",
        "\n",
        "```\n",
        "##5. Improved Maintainability Advantage:\n",
        " * OOP structures code in a way that is easier to maintain and update. Changes to one part of the code (e.g., a class) do not affect unrelated parts.\n",
        "* Example:\n",
        "\n",
        "```\n",
        "class Calculator:\n",
        "    def add(self, a, b):\n",
        "        return a + b\n",
        "\n",
        "    def subtract(self, a, b):\n",
        "        return a - b\n",
        "\n",
        "calc = Calculator()\n",
        "print(calc.add(5, 3))       # Output: 8\n",
        "print(calc.subtract(5, 3))  # Output: 2\n",
        "\n",
        "```\n",
        "##6. Real-World Modeling\n",
        "* Advantage: OOP makes it easier to model real-world entities and their interactions, leading to intuitive and natural code.\n",
        "* Example:\n",
        "\n",
        "\n",
        "```\n",
        "class Employee:\n",
        "    def __init__(self, name, position):\n",
        "        self.name = name\n",
        "        self.position = position\n",
        "\n",
        "    def work(self):\n",
        "        return f\"{self.name} is working as a {self.position}.\"\n",
        "\n",
        "emp = Employee(\"Ravi\", \"Software Engineer\")\n",
        "print(emp.work())  # Output: Ravi is working as a Software Engineer.\n",
        "```\n",
        "By leveraging these advantages, Python's OOP paradigm helps developers write clean, efficient, and scalable code.\n"
      ],
      "metadata": {
        "id": "mdlX_waORKZl"
      }
    },
    {
      "cell_type": "markdown",
      "source": [
        "# Q17.What is the difference between a class variable and an instance variable.\n",
        "In Python, class variables and instance variables are two types of variables that differ in their scope, behavior, and usage. Here's a concise breakdown:\n",
        "\n",
        "##1. Class Variable\n",
        "Definition: A variable that is shared across all instances of a class. It is defined within the class but outside any instance methods.\n",
        "Scope: Belongs to the class itself and is shared by all instances of the class.\n",
        "Usage: Used for attributes or data that should be the same for all instances of the class.\n",
        "Example:\n",
        "\n",
        "\n",
        "```\n",
        "class Car:\n",
        "    wheels = 4  # Class variable (shared by all instances)\n",
        "\n",
        "car1 = Car()\n",
        "car2 = Car()\n",
        "\n",
        "print(car1.wheels)  # Output: 4\n",
        "print(car2.wheels)  # Output: 4\n",
        "\n",
        "Car.wheels = 6  # Modifying the class variable\n",
        "print(car1.wheels)  # Output: 6\n",
        "print(car2.wheels)  # Output: 6\n",
        "```\n",
        "##2. Instance Variable\n",
        "* Definition: A variable that is unique to each instance of a class. It is defined within instance methods (usually __init__) and prefixed with self.\n",
        "* Scope: Belongs to the specific instance of the class and is not shared with other instances.\n",
        "* Usage: Used for attributes or data that vary between instances.\n",
        "* Example:\n",
        "\n",
        "```\n",
        "class Car:\n",
        "    def __init__(self, color):\n",
        "        self.color = color  # Instance variable (unique to each instance)\n",
        "\n",
        "car1 = Car(\"Red\")c\n",
        "car2 = Car(\"Blue\")\n",
        "\n",
        "print(car1.color)  # Output: Red\n",
        "print(car2.color)  # Output: Blue\n",
        "\n",
        "car1.color = \"Green\"  # Modifying the instance variable\n",
        "print(car1.color)  # Output: Green\n",
        "print(car2.color)  # Output: Blue\n",
        "```\n",
        "##Key Differences:\n",
        "* Scope: Class variables are shared across all instances, while instance variables are unique to each instance.\n",
        "\n",
        "* Definition: Class variables are defined within the class but outside any methods. Instance variables are defined within methods.\n",
        "\n",
        "* Access: Class variables can be accessed using the class name or an instance. Instance variables are accessed using the instance.\n",
        "\n",
        "* Modification: Modifying a class variable affects all instances, while modifying an instance variable affects only that particular instance\n",
        "\n"
      ],
      "metadata": {
        "id": "rdpy5buzZX85"
      }
    },
    {
      "cell_type": "markdown",
      "source": [
        "# Q18.What is multiple inheritance in Python.\n",
        "## multiple inheritance :\n",
        "Multiple inheritance in Python is a feature where a class can inherit attributes and methods from more than one parent class. This allows a child class to combine functionalities from multiple parent classes. However, it can sometimes lead to complexity, especially with the diamond problem, where the method resolution order (MRO) becomes ambiguous.\n",
        "\n",
        "Here’s an example to illustrate multiple inheritance:\n",
        "\n",
        "```\n",
        "# Parent Class 1\n",
        "class Parent1:\n",
        "    def greet(self):\n",
        "        return \"Hello from Parent1!\"\n",
        "\n",
        "# Parent Class 2\n",
        "class Parent2:\n",
        "    def welcome(self):\n",
        "        return \"Welcome from Parent2!\"\n",
        "\n",
        "# Child Class inheriting from both Parent1 and Parent2\n",
        "class Child(Parent1, Parent2):\n",
        "    def introduce(self):\n",
        "        return \"I am the Child class!\"\n",
        "\n",
        "# Creating an object of the Child class\n",
        "child = Child()\n",
        "\n",
        "# Accessing methods from both parent classes and the child class\n",
        "print(child.greet())       # Output: Hello from Parent1!\n",
        "print(child.welcome())     # Output: Welcome from Parent2!\n",
        "print(child.introduce())   # Output: I am the Child class!\n",
        "```\n",
        "## Key Points:\n",
        "Order of Inheritance: The order in which parent classes are listed matters. Python uses the C3 Linearization (MRO) to determine the method resolution order.\n",
        "Avoiding Conflicts: If both parent classes have a method with the same name, the method from the first parent listed in the inheritance will be called.\n",
        "\n",
        "For example:\n",
        "\n",
        "```\n",
        "class Parent1:\n",
        "    def show(self):\n",
        "        return \"This is Parent1\"\n",
        "\n",
        "class Parent2:\n",
        "    def show(self):\n",
        "        return \"This is Parent2\"\n",
        "\n",
        "class Child(Parent1, Parent2):\n",
        "    pass\n",
        "\n",
        "child = Child()\n",
        "print(child.show())  # Output: This is Parent1\n",
        "\n",
        "\n",
        "```\n",
        "Python resolves the method using the MRO, which you can check using Child.mro() or help(Child)."
      ],
      "metadata": {
        "id": "AD3p6uOKbhUM"
      }
    },
    {
      "cell_type": "markdown",
      "source": [
        "# Q19.Explain the purpose of ‘’__str__’ and ‘__repr__’ ‘ methods in Python.\n",
        "## Understanding the ‘’__str__’ and ‘__repr__’ ‘ methods in Python :\n",
        "In Python, the __repr__ and __str__ methods are used to define string representations of objects. The __repr__ method is intended for developers, providing an unambiguous representation of the object, while __str__ is for users, offering a readable description.\n",
        "\n",
        "Example\n",
        "\n",
        "```\n",
        "class Person:\n",
        "  def __init__(self, first_name, last_name, age):\n",
        "    self.first_name = first_name\n",
        "    self.last_name = last_name\n",
        "    self.age = age\n",
        "\n",
        "  def __repr__(self):\n",
        "    return f'Person(\"{self.first_name}\", \"{self.last_name}\", {self.age})'\n",
        "\n",
        "  def __str__(self):\n",
        "    return f'{self.first_name} {self.last_name}, Age: {self.age}'\n",
        "\n",
        "person = Person('John', 'Doe', 30)\n",
        "print(repr(person))                 # Output: Person(\"John\", \"Doe\", 30)\n",
        "print(str(person))                  # Output: John Doe, Age: 30\n",
        "```\n",
        "## Key Differences\n",
        "* Purpose:__repr__: Provides a detailed and unambiguous string representation for developers. It should ideally be a valid Python expression that can recreate the object. __str__: Offers a readable and user-friendly string representation.\n",
        "\n",
        "* Usage: repr(): Calls the __repr__ method. str(): Calls the __str__ method. If __str__ is not defined, it falls back to __repr__.\n",
        "## Example with Built-in Class\n",
        "\n",
        "```\n",
        "import datetime\n",
        "\n",
        "now = datetime.datetime.now()\n",
        "print(repr(now)) # Output: datetime.datetime(2023, 1, 27, 9, 50, 37, 429078)\n",
        "print(str(now)) # Output: 2023-01-27 09:50:37.429078\n",
        "```\n",
        "In this example, repr(now) provides a detailed representation that can recreate the object, while str(now) offers a more readable format.\n",
        "## Conclusion\n",
        "\n",
        "Implementing both methods in your classes enhances debugging and user interaction by providing appropriate string representations for different contexts\n",
        "\n"
      ],
      "metadata": {
        "id": "JL_al2KpcesF"
      }
    },
    {
      "cell_type": "markdown",
      "source": [
        "# Q20.What is the significance of the ‘super()’ function in Python.\n",
        "The super() function in Python is a powerful and versatile tool, especially in object-oriented programming. It plays a key role in enabling inheritance and method resolution in a clean and efficient way. Here's a breakdown of its significance:\n",
        "\n",
        "##1. Access Parent Class Methods\n",
        "The super() function allows you to call methods from a parent (or superclass) in a child (or subclass) without explicitly naming the parent class. This is particularly useful when working with inheritance, as it ensures that the parent class's methods are properly invoked.\n",
        "\n",
        "```\n",
        "class Parent:\n",
        "    def greet(self):\n",
        "        print(\"Hello from Parent!\")\n",
        "\n",
        "class Child(Parent):\n",
        "    def greet(self):\n",
        "        super().greet()  # Calls the greet method of Parent\n",
        "        print(\"Hello from Child!\")\n",
        "\n",
        "obj = Child()\n",
        "obj.greet()\n",
        "# Output:\n",
        "# Hello from Parent!\n",
        "# Hello from Child!\n",
        "```\n",
        "##2. Avoid Hardcoding Parent Class Names\n",
        "By using super(), you avoid tightly coupling your code to specific parent class names. This makes your code more maintainable and adaptable to changes in the class hierarchy.\n",
        "##3. Support for Multiple Inheritance\n",
        "In Python, super() works seamlessly with multiple inheritance by following the Method Resolution Order (MRO). It ensures that methods are called in the correct order, avoiding redundancy or skipping any class in the hierarchy.\n",
        "\n",
        "\n",
        "```\n",
        "class A:\n",
        "    def greet(self):\n",
        "        print(\"Hello from A!\")\n",
        "\n",
        "class B(A):\n",
        "    def greet(self):\n",
        "        print(\"Hello from B!\")\n",
        "        super().greet()\n",
        "\n",
        "class C(B):\n",
        "    def greet(self):\n",
        "        print(\"Hello from C!\")\n",
        "        super().greet()\n",
        "\n",
        "obj = C()\n",
        "obj.greet()\n",
        "# Output:\n",
        "# Hello from C!\n",
        "# Hello from B!\n",
        "# Hello from A!\n",
        "\n",
        "```\n",
        "##4. Simplifies Cooperative Inheritance\n",
        "In complex inheritance scenarios, super() ensures that all relevant methods in the hierarchy are called without requiring manual chaining.\n",
        "##5. Improves Code Reusability\n",
        "By leveraging super(), you can reuse and extend functionality from parent classes without duplicating code, making your programs more efficient and concise.\n",
        "\n",
        "* In summary, super() is a cornerstone of Python's inheritance model, enabling clean, maintainable, and scalable object-oriented designs."
      ],
      "metadata": {
        "id": "YnpRMYk-fu6m"
      }
    },
    {
      "cell_type": "markdown",
      "source": [
        "# Q21.What is the significance of the __del__ method in Python.\n",
        "##__del__ method in Python :\n",
        "The __del__ method in Python is a special method, also known as a destructor, that is called when an object is about to be destroyed. It allows you to define cleanup actions or resource deallocation tasks that need to occur when an object is no longer needed.\n",
        "\n",
        "## Key Points About __del__:\n",
        "\n",
        "##1.Purpose:\n",
        "\n",
        "It is primarily used to release external resources such as files, network connections, or database connections that the object may have acquired during its lifetime.\n",
        "\n",
        "##2.Automatic Invocation:\n",
        "\n",
        "Python's garbage collector automatically calls the __del__ method when the reference count of an object drops to zero (i.e., when there are no more references to the object).\n",
        "\n",
        "##3.Syntax:\n",
        "\n",
        "```\n",
        "class MyClass:\n",
        "    def __del__(self):\n",
        "        print(\"Destructor called, object deleted.\")\n",
        "```\n",
        "\n",
        "##4.Example:\n",
        "\n",
        "```\n",
        "class FileHandler:\n",
        "    def __init__(self, file_name):\n",
        "        self.file = open(file_name, 'w')\n",
        "        print(f\"File {file_name} opened.\")\n",
        "\n",
        "    def __del__(self):\n",
        "        self.file.close()\n",
        "        print(\"File closed.\")\n",
        "\n",
        "handler = FileHandler(\"example.txt\")\n",
        "del handler  # Explicitly deletes the object, triggering __del__\n",
        "\n",
        "```\n",
        "##5.Caution:\n",
        "\n",
        "* Unpredictable Timing: The exact time when __del__ is called is not guaranteed, as it depends on Python's garbage collection mechanism.\n",
        "* Circular References: If objects are involved in circular references, __del__ may not be called because the garbage collector cannot resolve such cycles easily.\n",
        "* Avoid Overuse: Over-reliance on __del__ is discouraged. Instead, use context managers (with statement) for resource management, as they provide more predictable and explicit cleanup.\n",
        "\n",
        "##6.Best Practice:\n",
        "\n",
        "Use the __del__ method sparingly and only when necessary.\n",
        "Prefer context managers (__enter__ and __exit__ methods) for managing resources like files or connections.\n",
        "Conclusion:\n",
        "\n",
        "While the __del__ method can be useful for cleanup tasks, it is not always the most reliable or recommended approach due to its unpredictable nature. Context managers are often a better alternative for managing resources in Python."
      ],
      "metadata": {
        "id": "P3zNez83grkh"
      }
    },
    {
      "cell_type": "markdown",
      "source": [
        "# Q22.What is the difference between @staticmethod and @classmethod in Python.\n",
        "In Python, @staticmethod and @classmethod are decorators used to define methods in a class, but they serve different purposes and have distinct behaviors. Here's a concise explanation of the differences:\n",
        "\n",
        "##1. @staticmethod\n",
        "* Definition: A staticmethod is a method that does not depend on the instance (self) or the class (cls) it belongs to.\n",
        "* Usage: It behaves like a regular function but is included in the class for logical grouping.\n",
        "* Access: It cannot access or modify the class or instance attributes.\n",
        "* Syntax:\n",
        "\n",
        "```\n",
        "class MyClass:\n",
        "    @staticmethod\n",
        "    def my_static_method(arg1, arg2):\n",
        "        return arg1 + arg2\n",
        "\n",
        "Call: Can be called using the class name or an instance:\n",
        "MyClass.my_static_method(3, 5)  # Output: 8\n",
        "obj = MyClass()\n",
        "obj.my_static_method(3, 5)     # Output: 8\n",
        "\n",
        "```\n",
        "##2. @classmethod\n",
        "* Definition: A classmethod is a method that takes the class itself (cls) as its first argument.\n",
        "* Usage: It is used when you need to access or modify the class state or create alternative constructors.\n",
        "* Access: It can access and modify class-level attributes but not instance-specific attributes.\n",
        "* Syntax:\n",
        "\n",
        "```\n",
        "class MyClass:\n",
        "    class_variable = \"Hello\"\n",
        "    \n",
        "    @classmethod\n",
        "    def my_class_method(cls, value):\n",
        "        cls.class_variable = value\n",
        "\n",
        "Call: Can be called using the class name or an instance:\n",
        "MyClass.my_class_method(\"Hi\")\n",
        "print(MyClass.class_variable)  # Output: Hi\n",
        "obj = MyClass()\n",
        "obj.my_class_method(\"Hey\")\n",
        "print(MyClass.class_variable)  # Output: Hey\n",
        "```\n",
        "##Key Differences\n",
        "* First Parameter: Class methods take cls as the first parameter, while static methods do not take any special first parameter.\n",
        "\n",
        "* Access to Class State: Class methods can access and modify class state, while static methods cannot.\n",
        "\n",
        "* Use Cases: Class methods are used for factory methods that return class objects for different use cases. Static methods are used for utility functions that do not require access to class-specific data.\n",
        "\n",
        "##When to Use\n",
        "\n",
        "* Class Methods: Use when you need to access or modify the class state or when the method needs to work with class variables or other class methods.\n",
        "\n",
        "* Static Methods: Use when the method does not access or modify class or instance state and performs a utility function related to the class.\n",
        "\n",
        "By understanding these differences, you can effectively use classmethod and staticmethod to enhance the functionality and organization of your Python code."
      ],
      "metadata": {
        "id": "i4Y-CHqmkIPX"
      }
    },
    {
      "cell_type": "markdown",
      "source": [
        "# Q23.How does polymorphism work in Python with inheritance ?\n",
        "Polymorphism in Python, especially when used with inheritance, allows objects of different classes to be treated as objects of a common superclass. It enables methods in derived classes to override methods in the base class, providing specific implementations while maintaining a consistent interface. Here's how it works:\n",
        "\n",
        "## Key Concepts of Polymorphism with Inheritance in Python:\n",
        "\n",
        "###1.Method Overriding:\n",
        " A subclass can provide its own implementation of a method defined in the parent class. When the method is called on an object, Python determines which version of the method to invoke based on the object's class.\n",
        "\n",
        "###2.Dynamic Method Resolution:\n",
        " Python uses dynamic (runtime) method resolution, meaning the method of the actual object type is executed, not the reference type.\n",
        "\n",
        "###3.Code Reusability and Flexibility:\n",
        "Polymorphism allows writing more generic and reusable code, as the same interface can work with objects of different types.\n",
        "\n",
        "* Example of Polymorphism with Inheritance:\n",
        "\n",
        "\n",
        "```\n",
        "class Animal:\n",
        "    def speak(self):\n",
        "        return \"I make a sound\"\n",
        "\n",
        "class Dog(Animal):\n",
        "    def speak(self):\n",
        "        return \"Woof!\"\n",
        "\n",
        "class Cat(Animal):\n",
        "    def speak(self):\n",
        "        return \"Meow!\"\n",
        "\n",
        "# Polymorphism in action\n",
        "def animal_sound(animal):\n",
        "    print(animal.speak())\n",
        "\n",
        "# Creating objects\n",
        "dog = Dog()\n",
        "cat = Cat()\n",
        "\n",
        "# Using the same function for different types\n",
        "animal_sound(dog)  # Output: Woof!\n",
        "animal_sound(cat)  # Output: Meow!\n",
        "\n",
        "```\n",
        "##Explanation:\n",
        "* Base Class (Animal): Defines a generic speak method.\n",
        "* Derived Classes (Dog and Cat): Override the speak method with their specific implementations.\n",
        "* Polymorphic Behavior: The animal_sound function works with any object of a class derived from Animal, calling the appropriate speak method based on the object's type.\n",
        "\n",
        "This approach ensures flexibility and extensibility, as new subclasses can be added without modifying existing code.\n"
      ],
      "metadata": {
        "id": "IvICQ6j8ly3-"
      }
    },
    {
      "cell_type": "markdown",
      "source": [
        "# Q24.What is method chaining in Python OOP?\n",
        "## Method chaining\n",
        "Method chaining in Python Object-Oriented Programming (OOP) is a technique where multiple methods are called on the same object in a single statement. Each method in the chain returns the object itself (or another object), allowing the next method to be called directly. This approach makes the code more concise and readable.\n",
        "\n",
        "Example of Method Chaining in Python:\n",
        "\n",
        "\n",
        "```\n",
        "class Person:\n",
        "    def __init__(self, name):\n",
        "        self.name = name\n",
        "        self.age = None\n",
        "        self.city = None\n",
        "\n",
        "    def set_age(self, age):\n",
        "        self.age = age\n",
        "        return self  # Returning the object for chaining\n",
        "\n",
        "    def set_city(self, city):\n",
        "        self.city = city\n",
        "        return self  # Returning the object for chaining\n",
        "\n",
        "    def display(self):\n",
        "        print(f\"Name: {self.name}, Age: {self.age}, City: {self.city}\")\n",
        "        return self  # Returning the object for further chaining if needed\n",
        "\n",
        "# Using method chaining\n",
        "person = Person(\"Alice\")\n",
        "person.set_age(30).set_city(\"New York\").display()\n",
        "\n",
        "# Output:\n",
        "# Name: Alice, Age: 30, City: New York\n",
        "```\n",
        "##Key Points:\n",
        "* Return self: Each method in the chain must return the object (self) to enable chaining.\n",
        "* Improved Readability: Method chaining reduces the need for repetitive variable assignments, making the code cleaner.\n",
        "* Fluent Interface: This technique is often referred to as a \"fluent interface\" because it allows the code to flow naturally.\n",
        "\n",
        "This approach is particularly useful in scenarios like configuring objects, building complex queries, or performing sequential operations. However, overusing it can sometimes make debugging harder, so it should be used judiciously."
      ],
      "metadata": {
        "id": "7paUK1tqnAl9"
      }
    },
    {
      "cell_type": "markdown",
      "source": [
        "# Q25.What is the purpose of the __call__ method in Python ?\n",
        "## __call__ method\n",
        "The __call__ method in Python is a special method that allows an instance of a class to be called as if it were a function. This makes the object callable, enabling you to use it with parentheses like a regular function. It is particularly useful for creating objects that need to behave like functions while maintaining state or encapsulating logic.\n",
        "\n",
        "##Purpose of __call__\n",
        "Encapsulation of Functionality: Encapsulate logic within an object that can be invoked like a function.\n",
        "Stateful Functions: Maintain state across multiple calls.\n",
        "Improved Readability: Simplify code by allowing objects to act as callable entities.\n",
        "###Example 1: Basic Usage\n",
        "\n",
        "\n",
        "```\n",
        "class Greeter:\n",
        "    def __init__(self, greeting):\n",
        "        self.greeting = greeting\n",
        "\n",
        "    def __call__(self, name):\n",
        "        return f\"{self.greeting}, {name}!\"\n",
        "\n",
        "# Create an instance\n",
        "greeter = Greeter(\"Hello\")\n",
        "\n",
        "# Call the instance like a function\n",
        "print(greeter(\"Alice\"))  # Output: Hello, Alice!\n",
        "print(greeter(\"Bob\"))    # Output: Hello, Bob!\n",
        "```\n",
        "###Example 2: Stateful Callable Object\n",
        "\n",
        "\n",
        "```\n",
        "class Counter:\n",
        "    def __init__(self):\n",
        "        self.count = 0\n",
        "\n",
        "    def __call__(self):\n",
        "        self.count += 1\n",
        "        return self.count\n",
        "\n",
        "# Create an instance\n",
        "counter = Counter()\n",
        "\n",
        "# Call the instance multiple times\n",
        "print(counter())  # Output: 1\n",
        "print(counter())  # Output: 2\n",
        "print(counter())  # Output: 3\n",
        "```\n",
        "###Example 3: Callable Object for Custom Logic\n",
        "\n",
        "\n",
        "```\n",
        "class Multiplier:\n",
        "    def __init__(self, factor):\n",
        "        self.factor = factor\n",
        "\n",
        "    def __call__(self, value):\n",
        "        return value * self.factor\n",
        "\n",
        "# Create an instance\n",
        "double = Multiplier(2)\n",
        "triple = Multiplier(3)\n",
        "\n",
        "# Use the instances as functions\n",
        "print(double(5))  # Output: 10\n",
        "print(triple(5))  # Output: 15\n",
        "\n",
        "```\n",
        "##Key Takeaways :\n",
        "The __call__ method makes objects behave like functions.\n",
        "It is useful for creating reusable, stateful, and encapsulated logic.\n",
        "This feature enhances the flexibility and readability of your code."
      ],
      "metadata": {
        "id": "Vyctu-DXoBf7"
      }
    },
    {
      "cell_type": "markdown",
      "source": [
        "# <<< **Practical** **Questions** >>>\n",
        "\n"
      ],
      "metadata": {
        "id": "2CcpHjoIpdAo"
      }
    },
    {
      "cell_type": "markdown",
      "source": [
        "# Q1.Create a parent class Animal with a method speak() that prints a generic message. Create a child class Dog that overrides the speak() method to print \"Bark!\"."
      ],
      "metadata": {
        "id": "Us6Z6OaspxVS"
      }
    },
    {
      "cell_type": "code",
      "source": [
        "# Parent class\n",
        "class Animal:\n",
        "    def speak(self):\n",
        "        print(\"The animal makes a sound.\")\n",
        "\n",
        "# Child class\n",
        "class Dog(Animal):\n",
        "    def speak(self):\n",
        "        print(\"Bark!\")\n",
        "\n",
        "# Example usage\n",
        "generic_animal = Animal()\n",
        "generic_animal.speak()  # Output: The animal makes a sound.\n",
        "\n",
        "dog = Dog()\n",
        "dog.speak()  # Output: Bark!\n"
      ],
      "metadata": {
        "colab": {
          "base_uri": "https://localhost:8080/"
        },
        "id": "3eaJQU8Yp9aa",
        "outputId": "3ac463d4-e732-4108-ab50-26a95cc7aa84"
      },
      "execution_count": 1,
      "outputs": [
        {
          "output_type": "stream",
          "name": "stdout",
          "text": [
            "The animal makes a sound.\n",
            "Bark!\n"
          ]
        }
      ]
    },
    {
      "cell_type": "markdown",
      "source": [
        "# Q2. Write a program to create an abstract class Shape with a method area(). Derive classes Circle and Rectangle from it and implement the area() method in both."
      ],
      "metadata": {
        "id": "YN8tTBy3qQPO"
      }
    },
    {
      "cell_type": "code",
      "source": [
        "from abc import ABC, abstractmethod\n",
        "import math\n",
        "\n",
        "# Abstract class Shape\n",
        "class Shape(ABC):\n",
        "    @abstractmethod\n",
        "    def area(self):\n",
        "        pass\n",
        "\n",
        "# Derived class Circle\n",
        "class Circle(Shape):\n",
        "    def __init__(self, radius):\n",
        "        self.radius = radius\n",
        "\n",
        "    def area(self):\n",
        "        return math.pi * self.radius ** 2\n",
        "\n",
        "# Derived class Rectangle\n",
        "class Rectangle(Shape):\n",
        "    def __init__(self, length, width):\n",
        "        self.length = length\n",
        "        self.width = width\n",
        "\n",
        "    def area(self):\n",
        "        return self.length * self.width\n",
        "\n",
        "# Example usage\n",
        "if __name__ == \"__main__\":\n",
        "    circle = Circle(5)  # Circle with radius 5\n",
        "    rectangle = Rectangle(4, 6)  # Rectangle with length 4 and width 6\n",
        "\n",
        "    print(f\"Area of Circle: {circle.area():.2f}\")\n",
        "    print(f\"Area of Rectangle: {rectangle.area():.2f}\")\n"
      ],
      "metadata": {
        "colab": {
          "base_uri": "https://localhost:8080/"
        },
        "id": "3bstBl5iqpaA",
        "outputId": "90c5ac20-f13e-4b7f-b769-b37b2c9ec3ee"
      },
      "execution_count": 2,
      "outputs": [
        {
          "output_type": "stream",
          "name": "stdout",
          "text": [
            "Area of Circle: 78.54\n",
            "Area of Rectangle: 24.00\n"
          ]
        }
      ]
    },
    {
      "cell_type": "markdown",
      "source": [
        "# Q3. Implement a multi-level inheritance scenario where a class Vehicle has an attribute type. Derive a class Car and further derive a class ElectricCar that adds a battery attribute."
      ],
      "metadata": {
        "id": "2l2HGTvlqt-f"
      }
    },
    {
      "cell_type": "code",
      "source": [
        "# Base class\n",
        "class Vehicle:\n",
        "    def __init__(self, vehicle_type):\n",
        "        self.vehicle_type = vehicle_type\n",
        "\n",
        "    def display_type(self):\n",
        "        return f\"This is a {self.vehicle_type}.\"\n",
        "\n",
        "# Derived class\n",
        "class Car(Vehicle):\n",
        "    def __init__(self, vehicle_type, brand):\n",
        "        super().__init__(vehicle_type)\n",
        "        self.brand = brand\n",
        "\n",
        "    def display_car_info(self):\n",
        "        return f\"This is a {self.brand} car, which is a type of {self.vehicle_type}.\"\n",
        "\n",
        "# Further derived class\n",
        "class ElectricCar(Car):\n",
        "    def __init__(self, vehicle_type, brand, battery_capacity):\n",
        "        super().__init__(vehicle_type, brand)\n",
        "        self.battery_capacity = battery_capacity\n",
        "\n",
        "    def display_electric_car_info(self):\n",
        "        return (f\"This is a {self.brand} electric car with a battery capacity of \"\n",
        "                f\"{self.battery_capacity} kWh, which is a type of {self.vehicle_type}.\")\n",
        "\n",
        "# Example usage\n",
        "if __name__ == \"__main__\":\n",
        "    my_electric_car = ElectricCar(\"vehicle\", \"Tesla\", 75)\n",
        "    print(my_electric_car.display_type())  # From Vehicle class\n",
        "    print(my_electric_car.display_car_info())  # From Car class\n",
        "    print(my_electric_car.display_electric_car_info())  # From ElectricCar class\n"
      ],
      "metadata": {
        "colab": {
          "base_uri": "https://localhost:8080/"
        },
        "id": "8xOPfOsqq5gd",
        "outputId": "b73561f8-d770-4e07-946a-8cac079f77e9"
      },
      "execution_count": 3,
      "outputs": [
        {
          "output_type": "stream",
          "name": "stdout",
          "text": [
            "This is a vehicle.\n",
            "This is a Tesla car, which is a type of vehicle.\n",
            "This is a Tesla electric car with a battery capacity of 75 kWh, which is a type of vehicle.\n"
          ]
        }
      ]
    },
    {
      "cell_type": "markdown",
      "source": [
        "# Q4.Demonstrate polymorphism by creating a base class Bird with a method fly(). Create two derived classes Sparrow and Penguin that override the fly() method.\n",
        "\n",
        "\n"
      ],
      "metadata": {
        "id": "9mSBxB4xrKmH"
      }
    },
    {
      "cell_type": "code",
      "source": [
        "# Base class\n",
        "class Bird:\n",
        "    def fly(self):\n",
        "        print(\"Some birds can fly.\")\n",
        "\n",
        "# Derived class: Sparrow\n",
        "class Sparrow(Bird):\n",
        "    def fly(self):\n",
        "        print(\"Sparrow flies high in the sky.\")\n",
        "\n",
        "# Derived class: Penguin\n",
        "class Penguin(Bird):\n",
        "    def fly(self):\n",
        "        print(\"Penguins cannot fly, but they swim gracefully.\")\n",
        "\n",
        "# Demonstrating polymorphism\n",
        "def demonstrate_flying(bird):\n",
        "    bird.fly()\n",
        "\n",
        "# Creating instances\n",
        "sparrow = Sparrow()\n",
        "penguin = Penguin()\n",
        "\n",
        "# Calling the method\n",
        "demonstrate_flying(sparrow)  # Output: Sparrow flies high in the sky.\n",
        "demonstrate_flying(penguin)  # Output: Penguins cannot fly, but they swim gracefully.\n"
      ],
      "metadata": {
        "colab": {
          "base_uri": "https://localhost:8080/"
        },
        "id": "P6lZb7fprl4B",
        "outputId": "fdddaa81-2568-4c03-b1f7-dff455e56f2a"
      },
      "execution_count": 4,
      "outputs": [
        {
          "output_type": "stream",
          "name": "stdout",
          "text": [
            "Sparrow flies high in the sky.\n",
            "Penguins cannot fly, but they swim gracefully.\n"
          ]
        }
      ]
    },
    {
      "cell_type": "markdown",
      "source": [
        "# Q5. Write a program to demonstrate encapsulation by creating a class BankAccount with private attributes balance and methods to deposit, withdraw, and check balance."
      ],
      "metadata": {
        "id": "dNoV372FroUz"
      }
    },
    {
      "cell_type": "code",
      "source": [
        "class BankAccount:\n",
        "    def __init__(self, initial_balance=0):\n",
        "        # Private attribute\n",
        "        self.__balance = initial_balance\n",
        "\n",
        "    # Method to deposit money\n",
        "    def deposit(self, amount):\n",
        "        if amount > 0:\n",
        "            self.__balance += amount\n",
        "            print(f\"₹{amount} deposited successfully.\")\n",
        "        else:\n",
        "            print(\"Deposit amount must be positive.\")\n",
        "\n",
        "    # Method to withdraw money\n",
        "    def withdraw(self, amount):\n",
        "        if amount > 0:\n",
        "            if amount <= self.__balance:\n",
        "                self.__balance -= amount\n",
        "                print(f\"₹{amount} withdrawn successfully.\")\n",
        "            else:\n",
        "                print(\"Insufficient balance.\")\n",
        "        else:\n",
        "            print(\"Withdrawal amount must be positive.\")\n",
        "\n",
        "    # Method to check balance\n",
        "    def check_balance(self):\n",
        "        print(f\"Your current balance is ₹{self.__balance}.\")\n",
        "\n",
        "# Example usage\n",
        "if __name__ == \"__main__\":\n",
        "    account = BankAccount(1000)  # Initial balance ₹1000\n",
        "    account.check_balance()\n",
        "    account.deposit(500)\n",
        "    account.check_balance()\n",
        "    account.withdraw(300)\n",
        "    account.check_balance()\n",
        "    account.withdraw(1500)  # Attempt to withdraw more than balance\n"
      ],
      "metadata": {
        "colab": {
          "base_uri": "https://localhost:8080/"
        },
        "id": "-NrWjURitM_h",
        "outputId": "c7e5c1bd-8416-4d57-c900-a0900030acce"
      },
      "execution_count": 5,
      "outputs": [
        {
          "output_type": "stream",
          "name": "stdout",
          "text": [
            "Your current balance is ₹1000.\n",
            "₹500 deposited successfully.\n",
            "Your current balance is ₹1500.\n",
            "₹300 withdrawn successfully.\n",
            "Your current balance is ₹1200.\n",
            "Insufficient balance.\n"
          ]
        }
      ]
    },
    {
      "cell_type": "markdown",
      "source": [
        "# Q6. Demonstrate runtime polymorphism using a method play() in a base class Instrument. Derive classes Guitar and Piano that implement their own version of play()."
      ],
      "metadata": {
        "id": "fNRNh3iItSib"
      }
    },
    {
      "cell_type": "code",
      "source": [
        "# Base class\n",
        "class Instrument:\n",
        "    def play(self):\n",
        "        print(\"Playing an instrument.\")\n",
        "\n",
        "# Derived class: Guitar\n",
        "class Guitar(Instrument):\n",
        "    def play(self):\n",
        "        print(\"Strumming the guitar strings.\")\n",
        "\n",
        "# Derived class: Piano\n",
        "class Piano(Instrument):\n",
        "    def play(self):\n",
        "        print(\"Pressing the piano keys.\")\n",
        "\n",
        "# Function demonstrating runtime polymorphism\n",
        "def play_instrument(instrument):\n",
        "    instrument.play()\n",
        "\n",
        "# Creating objects of derived classes\n",
        "guitar = Guitar()\n",
        "piano = Piano()\n",
        "\n",
        "# Demonstrating polymorphism\n",
        "play_instrument(guitar)  # Output: Strumming the guitar strings.\n",
        "play_instrument(piano)   # Output: Pressing the piano keys.\n"
      ],
      "metadata": {
        "colab": {
          "base_uri": "https://localhost:8080/"
        },
        "id": "N1HBJlrYuPtq",
        "outputId": "04b8fdad-2477-4f5a-b5d7-0e39341da075"
      },
      "execution_count": 6,
      "outputs": [
        {
          "output_type": "stream",
          "name": "stdout",
          "text": [
            "Strumming the guitar strings.\n",
            "Pressing the piano keys.\n"
          ]
        }
      ]
    },
    {
      "cell_type": "markdown",
      "source": [
        "# Q7. Create a class MathOperations with a class method add_numbers() to add two numbers and a static method subtract_numbers() to subtract two numbers."
      ],
      "metadata": {
        "id": "3kCo0tNduUWs"
      }
    },
    {
      "cell_type": "code",
      "source": [
        "class MathOperations:\n",
        "    @classmethod\n",
        "    def add_numbers(cls, a, b):\n",
        "        \"\"\"Class method to add two numbers.\"\"\"\n",
        "        return a + b\n",
        "\n",
        "    @staticmethod\n",
        "    def subtract_numbers(a, b):\n",
        "        \"\"\"Static method to subtract two numbers.\"\"\"\n",
        "        return a - b\n",
        "\n",
        "# Example usage:\n",
        "# Adding numbers using the class method\n",
        "result_add = MathOperations.add_numbers(10, 5)\n",
        "print(f\"Addition Result: {result_add}\")\n",
        "\n",
        "# Subtracting numbers using the static method\n",
        "result_subtract = MathOperations.subtract_numbers(10, 5)\n",
        "print(f\"Subtraction Result: {result_subtract}\")\n"
      ],
      "metadata": {
        "colab": {
          "base_uri": "https://localhost:8080/"
        },
        "id": "iUUwN68Hu0NQ",
        "outputId": "42b195d3-7cbe-44a0-d3aa-2e3281efd3b0"
      },
      "execution_count": 7,
      "outputs": [
        {
          "output_type": "stream",
          "name": "stdout",
          "text": [
            "Addition Result: 15\n",
            "Subtraction Result: 5\n"
          ]
        }
      ]
    },
    {
      "cell_type": "markdown",
      "source": [
        "# Q8. Implement a class Person with a class method to count the total number of persons created.\n",
        "\n",
        "\n"
      ],
      "metadata": {
        "id": "JOqt6WVnu6Dj"
      }
    },
    {
      "cell_type": "code",
      "source": [
        "class Person:\n",
        "    # Class variable to keep track of the count of persons\n",
        "    total_persons = 0\n",
        "\n",
        "    def __init__(self, name, age):\n",
        "        self.name = name\n",
        "        self.age = age\n",
        "        # Increment the count whenever a new person is created\n",
        "        Person.total_persons += 1\n",
        "\n",
        "    @classmethod\n",
        "    def get_total_persons(cls):\n",
        "        \"\"\"Class method to return the total number of persons created.\"\"\"\n",
        "        return cls.total_persons\n",
        "\n",
        "# Example usage\n",
        "person1 = Person(\"Alice\", 25)\n",
        "person2 = Person(\"Bob\", 30)\n",
        "person3 = Person(\"Charlie\", 22)\n",
        "\n",
        "print(f\"Total persons created: {Person.get_total_persons()}\")\n"
      ],
      "metadata": {
        "colab": {
          "base_uri": "https://localhost:8080/"
        },
        "id": "0fXZXsfgvI7N",
        "outputId": "959c389c-6b21-4641-bd57-107b09a1042f"
      },
      "execution_count": 8,
      "outputs": [
        {
          "output_type": "stream",
          "name": "stdout",
          "text": [
            "Total persons created: 3\n"
          ]
        }
      ]
    },
    {
      "cell_type": "markdown",
      "source": [
        "# Q9.Write a class Fraction with attributes numerator and denominator. Override the str method to display the fraction as \"numerator/denominator\"."
      ],
      "metadata": {
        "id": "dwcqTPxVvNV-"
      }
    },
    {
      "cell_type": "code",
      "source": [
        "class Fraction:\n",
        "    def __init__(self, numerator, denominator):\n",
        "        if denominator == 0:\n",
        "            raise ValueError(\"Denominator cannot be zero.\")\n",
        "        self.numerator = numerator\n",
        "        self.denominator = denominator\n",
        "\n",
        "    def __str__(self):\n",
        "        return f\"{self.numerator}/{self.denominator}\"\n",
        "\n",
        "# Example usage:\n",
        "fraction = Fraction(3, 4)\n",
        "print(fraction)  # Output: 3/4\n"
      ],
      "metadata": {
        "colab": {
          "base_uri": "https://localhost:8080/"
        },
        "id": "we8bvrnavkla",
        "outputId": "a5e18a09-5ef0-44c2-9281-b623b5c4818a"
      },
      "execution_count": 9,
      "outputs": [
        {
          "output_type": "stream",
          "name": "stdout",
          "text": [
            "3/4\n"
          ]
        }
      ]
    },
    {
      "cell_type": "markdown",
      "source": [
        "# Q10. Demonstrate operator overloading by creating a class Vector and overriding the add method to add two vectors."
      ],
      "metadata": {
        "id": "eS_TmfXFvowo"
      }
    },
    {
      "cell_type": "code",
      "source": [
        "class Vector:\n",
        "    def __init__(self, x, y):\n",
        "        self.x = x\n",
        "        self.y = y\n",
        "\n",
        "    def __add__(self, other):\n",
        "        if isinstance(other, Vector):\n",
        "            return Vector(self.x + other.x, self.y + other.y)\n",
        "        raise TypeError(\"Operand must be an instance of Vector\")\n",
        "\n",
        "    def __repr__(self):\n",
        "        return f\"Vector({self.x}, {self.y})\"\n",
        "\n",
        "# Example usage\n",
        "v1 = Vector(2, 3)\n",
        "v2 = Vector(4, 5)\n",
        "\n",
        "v3 = v1 + v2  # Adding two vectors using the overloaded '+' operator\n",
        "print(v3)  # Output: Vector(6, 8)\n"
      ],
      "metadata": {
        "colab": {
          "base_uri": "https://localhost:8080/"
        },
        "id": "Ddu-1UiewBXj",
        "outputId": "3f4a9cc3-c0e9-41b5-a5ef-038dfca518b7"
      },
      "execution_count": 10,
      "outputs": [
        {
          "output_type": "stream",
          "name": "stdout",
          "text": [
            "Vector(6, 8)\n"
          ]
        }
      ]
    },
    {
      "cell_type": "markdown",
      "source": [
        "# Q11. Create a class Person with attributes name and age. Add a method greet() that prints \"Hello, my name is {name} and I am {age} years old.\"\n",
        "\n",
        "\n"
      ],
      "metadata": {
        "id": "k1HaMW4CwDWf"
      }
    },
    {
      "cell_type": "code",
      "source": [
        "class Person:\n",
        "    def __init__(self, name, age):\n",
        "        self.name = name\n",
        "        self.age = age\n",
        "\n",
        "    def greet(self):\n",
        "        print(f\"Hello, my name is {self.name} and I am {self.age} years old.\")\n",
        "\n",
        "# Example usage:\n",
        "person = Person(\"Sakshi\", 23)\n",
        "person.greet()\n"
      ],
      "metadata": {
        "colab": {
          "base_uri": "https://localhost:8080/"
        },
        "id": "dVqlX8QywaKl",
        "outputId": "6f7cb055-2abb-48d1-e456-498333448ddc"
      },
      "execution_count": 12,
      "outputs": [
        {
          "output_type": "stream",
          "name": "stdout",
          "text": [
            "Hello, my name is Sakshi and I am 23 years old.\n"
          ]
        }
      ]
    },
    {
      "cell_type": "markdown",
      "source": [
        "# Q12. Implement a class Student with attributes name and grades. Create a method average_grade() to compute the average of the grades."
      ],
      "metadata": {
        "id": "DA1xDmrbwjY5"
      }
    },
    {
      "cell_type": "code",
      "source": [
        "class Student:\n",
        "    def __init__(self, name, grades):\n",
        "        \"\"\"\n",
        "        Initialize the Student object with a name and a list of grades.\n",
        "        :param name: str - Name of the student\n",
        "        :param grades: list - List of grades (numbers)\n",
        "        \"\"\"\n",
        "        self.name = name\n",
        "        self.grades = grades\n",
        "\n",
        "    def average_grade(self):\n",
        "        \"\"\"\n",
        "        Calculate and return the average of the grades.\n",
        "        :return: float - Average of the grades\n",
        "        \"\"\"\n",
        "        if not self.grades:\n",
        "            return 0  # Return 0 if the grades list is empty\n",
        "        return sum(self.grades) / len(self.grades)\n",
        "\n",
        "\n",
        "# Example usage:\n",
        "student = Student(\"Aarav\", [85, 90, 78, 92])\n",
        "print(f\"Student Name: {student.name}\")\n",
        "print(f\"Average Grade: {student.average_grade():.2f}\")\n"
      ],
      "metadata": {
        "colab": {
          "base_uri": "https://localhost:8080/"
        },
        "id": "KZT4R0fEw6Hq",
        "outputId": "1a90f1a3-fb0c-45c9-a2f0-592157a6cc6e"
      },
      "execution_count": 13,
      "outputs": [
        {
          "output_type": "stream",
          "name": "stdout",
          "text": [
            "Student Name: Aarav\n",
            "Average Grade: 86.25\n"
          ]
        }
      ]
    },
    {
      "cell_type": "markdown",
      "source": [
        "# Q13. Create a class Rectangle with methods set_dimensions() to set the dimensions and area() to calculate the area."
      ],
      "metadata": {
        "id": "zVtwrHMlxDYB"
      }
    },
    {
      "cell_type": "code",
      "source": [
        "class Rectangle:\n",
        "    def __init__(self):\n",
        "        self.length = 0\n",
        "        self.width = 0\n",
        "\n",
        "    def set_dimensions(self, length, width):\n",
        "        \"\"\"Set the dimensions of the rectangle.\"\"\"\n",
        "        self.length = length\n",
        "        self.width = width\n",
        "\n",
        "    def area(self):\n",
        "        \"\"\"Calculate and return the area of the rectangle.\"\"\"\n",
        "        return self.length * self.width\n",
        "\n",
        "# Example usage:\n",
        "rect = Rectangle()\n",
        "rect.set_dimensions(5, 10)\n",
        "print(\"Area of the rectangle:\", rect.area())\n"
      ],
      "metadata": {
        "colab": {
          "base_uri": "https://localhost:8080/"
        },
        "id": "N2yTu8CNxVzp",
        "outputId": "457592b4-3fe1-4dd1-8a0e-7cd0183c7c92"
      },
      "execution_count": 14,
      "outputs": [
        {
          "output_type": "stream",
          "name": "stdout",
          "text": [
            "Area of the rectangle: 50\n"
          ]
        }
      ]
    },
    {
      "cell_type": "markdown",
      "source": [
        "# Q14. Create a class Employee with a method calculate_salary() that computes the salary based on hours worked and hourly rate. Create a derived class Manager that adds a bonus to the salary."
      ],
      "metadata": {
        "id": "LOGKBbngxapL"
      }
    },
    {
      "cell_type": "code",
      "source": [
        "class Employee:\n",
        "    def __init__(self, name, hours_worked, hourly_rate):\n",
        "        self.name = name\n",
        "        self.hours_worked = hours_worked\n",
        "        self.hourly_rate = hourly_rate\n",
        "\n",
        "    def calculate_salary(self):\n",
        "        return self.hours_worked * self.hourly_rate\n",
        "\n",
        "class Manager(Employee):\n",
        "    def __init__(self, name, hours_worked, hourly_rate, bonus):\n",
        "        super().__init__(name, hours_worked, hourly_rate)\n",
        "        self.bonus = bonus\n",
        "\n",
        "    def calculate_salary(self):\n",
        "        return super().calculate_salary() + self.bonus\n",
        "\n",
        "# Example usage\n",
        "employee = Employee(\"sakshi prajapati\", 40, 25)\n",
        "manager = Manager(\"nayan prajapati\", 40, 30, 500)\n",
        "\n",
        "print(f\"{employee.name}'s Salary: ${employee.calculate_salary()}\")\n",
        "print(f\"{manager.name}'s Salary: ${manager.calculate_salary()}\")"
      ],
      "metadata": {
        "colab": {
          "base_uri": "https://localhost:8080/"
        },
        "id": "P4Mj1inlxkJf",
        "outputId": "b700ca74-ba3b-41cd-a687-e3d4902bc7e5"
      },
      "execution_count": 16,
      "outputs": [
        {
          "output_type": "stream",
          "name": "stdout",
          "text": [
            "sakshi prajapati's Salary: $1000\n",
            "nayan prajapati's Salary: $1700\n"
          ]
        }
      ]
    },
    {
      "cell_type": "markdown",
      "source": [
        "# Q15. Create a class Product with attributes name, price, and quantity. Implement a method total_price() that calculates the total price of the product.\n",
        "\n",
        "\n"
      ],
      "metadata": {
        "id": "PPjtePSEyXKC"
      }
    },
    {
      "cell_type": "code",
      "source": [
        "class Product:\n",
        "    def __init__(self, name, price, quantity):\n",
        "        self.name = name\n",
        "        self.price = price\n",
        "        self.quantity = quantity\n",
        "\n",
        "    def total_price(self):\n",
        "        return self.price * self.quantity\n",
        "\n",
        "# Example usage:\n",
        "product = Product(\"Laptop\", 50000, 2)\n",
        "print(f\"Total price of {product.name}: ₹{product.total_price()}\")\n"
      ],
      "metadata": {
        "colab": {
          "base_uri": "https://localhost:8080/"
        },
        "id": "KoW27j5MyrPN",
        "outputId": "8c4f532f-4351-4d95-e049-030433a667ee"
      },
      "execution_count": 17,
      "outputs": [
        {
          "output_type": "stream",
          "name": "stdout",
          "text": [
            "Total price of Laptop: ₹100000\n"
          ]
        }
      ]
    },
    {
      "cell_type": "markdown",
      "source": [
        "# Q16. Create a class Animal with an abstract method sound(). Create two derived classes Cow and Sheep that implement the sound() method."
      ],
      "metadata": {
        "id": "Ig8k7uggyuOo"
      }
    },
    {
      "cell_type": "code",
      "source": [
        "from abc import ABC, abstractmethod\n",
        "\n",
        "# Abstract class Animal\n",
        "class Animal(ABC):\n",
        "    @abstractmethod\n",
        "    def sound(self):\n",
        "        pass\n",
        "\n",
        "# Derived class Cow\n",
        "class Cow(Animal):\n",
        "    def sound(self):\n",
        "        return \"Moo\"\n",
        "\n",
        "# Derived class Sheep\n",
        "class Sheep(Animal):\n",
        "    def sound(self):\n",
        "        return \"Baa\"\n",
        "\n",
        "# Example usage\n",
        "if __name__ == \"__main__\":\n",
        "    cow = Cow()\n",
        "    sheep = Sheep()\n",
        "\n",
        "    print(f\"Cow says: {cow.sound()}\")\n",
        "    print(f\"Sheep says: {sheep.sound()}\")\n"
      ],
      "metadata": {
        "colab": {
          "base_uri": "https://localhost:8080/"
        },
        "id": "zm6UiK3DzGFL",
        "outputId": "06e3dd97-b778-4b03-e9ce-19b7d3848a44"
      },
      "execution_count": 18,
      "outputs": [
        {
          "output_type": "stream",
          "name": "stdout",
          "text": [
            "Cow says: Moo\n",
            "Sheep says: Baa\n"
          ]
        }
      ]
    },
    {
      "cell_type": "markdown",
      "source": [
        "# Q17.Create a class Book with attributes title, author, and year_published. Add a method get_book_info() that returns a formatted string with the book's details."
      ],
      "metadata": {
        "id": "5R82ftTezKXM"
      }
    },
    {
      "cell_type": "code",
      "source": [
        "class Book:\n",
        "    def __init__(self, title, author, year_published):\n",
        "        self.title = title\n",
        "        self.author = author\n",
        "        self.year_published = year_published\n",
        "\n",
        "    def get_book_info(self):\n",
        "        return f\"'{self.title}' by {self.author}, Published in {self.year_published}\"\n",
        "\n",
        "# Example usage\n",
        "book = Book(\"To Kill a Mockingbird\", \"Harper Lee\", 1960)\n",
        "print(book.get_book_info())"
      ],
      "metadata": {
        "colab": {
          "base_uri": "https://localhost:8080/"
        },
        "id": "PbmqEufTzUD8",
        "outputId": "d5e49eb0-1b9e-4290-dd45-1cbe6e7096a9"
      },
      "execution_count": 19,
      "outputs": [
        {
          "output_type": "stream",
          "name": "stdout",
          "text": [
            "'To Kill a Mockingbird' by Harper Lee, Published in 1960\n"
          ]
        }
      ]
    },
    {
      "cell_type": "markdown",
      "source": [
        "# Q18. Create a class House with attributes address and price. Create a derived class Mansion that adds an attribute number_of_rooms."
      ],
      "metadata": {
        "id": "C8V5mwsUzoqa"
      }
    },
    {
      "cell_type": "code",
      "source": [
        "class House:\n",
        "    def __init__(self, address, price):\n",
        "        self.address = address\n",
        "        self.price = price\n",
        "\n",
        "    def display_details(self):\n",
        "        return f\"Address: {self.address}, Price: {self.price}\"\n",
        "\n",
        "class Mansion(House):\n",
        "    def __init__(self, address, price, number_of_rooms):\n",
        "        super().__init__(address, price)\n",
        "        self.number_of_rooms = number_of_rooms\n",
        "\n",
        "    def display_details(self):\n",
        "        return f\"Address: {self.address}, Price: {self.price}, Number of Rooms: {self.number_of_rooms}\"\n",
        "\n",
        "# Example usage\n",
        "mansion = Mansion(\"123 Luxury Lane\", 5000000, 10)\n",
        "print(mansion.display_details())"
      ],
      "metadata": {
        "colab": {
          "base_uri": "https://localhost:8080/"
        },
        "id": "SYC2ggss0BUr",
        "outputId": "08baae05-3399-4528-fefe-3da08f9a6e1a"
      },
      "execution_count": 20,
      "outputs": [
        {
          "output_type": "stream",
          "name": "stdout",
          "text": [
            "Address: 123 Luxury Lane, Price: 5000000, Number of Rooms: 10\n"
          ]
        }
      ]
    }
  ]
}